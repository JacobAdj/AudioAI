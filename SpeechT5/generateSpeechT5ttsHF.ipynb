{
 "cells": [
  {
   "cell_type": "code",
   "execution_count": 35,
   "id": "58146025",
   "metadata": {},
   "outputs": [
    {
     "name": "stdout",
     "output_type": "stream",
     "text": [
      "model & processor loaded\n",
      "speaker embeddings & vocoder loaded\n"
     ]
    }
   ],
   "source": [
    "import os\n",
    "os.environ[\"WANDB_MODE\"] = \"disabled\"\n",
    "\n",
    "import torch\n",
    "import torchaudio\n",
    "\n",
    "# from IPython.display import Audio\n",
    "\n",
    "import soundfile as sf\n",
    "import sounddevice as sd\n",
    "# import librosa\n",
    "# import librosa.display\n",
    "\n",
    "from datasets import load_dataset \n",
    "\n",
    "from transformers import SpeechT5ForTextToSpeech, SpeechT5Processor\n",
    "from transformers import SpeechT5HifiGan\n",
    "\n",
    "\n",
    "MODEL_NAME = \"microsoft/speecht5_tts\"\n",
    "\n",
    "CACHE_DIR = \"D:/LanguageModels/cache\"\n",
    "DATASET_DIR = \"D:/LanguageModels/dataset/\"\n",
    "AUDIO_DIR = \"D:/LanguageModels/dataset/audio/\"\n",
    "\n",
    "finetuned = True\n",
    "\n",
    "if finetuned:\n",
    "    model = SpeechT5ForTextToSpeech.from_pretrained(\"D:/LanguageModels/ftT5modelGetallen9\")\n",
    "    processor = SpeechT5Processor.from_pretrained(\"D:/LanguageModels/ftT5processorGetallen9\")\n",
    "else:\n",
    "    model = SpeechT5ForTextToSpeech.from_pretrained(MODEL_NAME , cache_dir=CACHE_DIR)\n",
    "    processor = SpeechT5Processor.from_pretrained(MODEL_NAME , cache_dir=CACHE_DIR)\n",
    "\n",
    "print('model & processor loaded')\n",
    "\n",
    "# for name, param in model.named_parameters():\n",
    "#     print(name, param.requires_grad) \n",
    "\n",
    "embeddings_dataset = load_dataset(\"Matthijs/cmu-arctic-xvectors\", split=\"validation\" , cache_dir=CACHE_DIR)\n",
    "speaker_embeddings = torch.tensor(embeddings_dataset[7306][\"xvector\"]).unsqueeze(0)\n",
    "vocoder = SpeechT5HifiGan.from_pretrained(\"microsoft/speecht5_hifigan\" , cache_dir=CACHE_DIR)\n",
    "\n",
    "print('speaker embeddings & vocoder loaded')"
   ]
  },
  {
   "cell_type": "code",
   "execution_count": 36,
   "id": "e0c771b3",
   "metadata": {},
   "outputs": [
    {
     "name": "stdout",
     "output_type": "stream",
     "text": [
      "inputs[\"input_ids\"] tensor([[4, 3, 2]])\n",
      "spectrogram tensor([[-6.2394, -6.1411, -6.3204,  ..., -7.5758, -7.3847, -7.0475],\n",
      "        [-5.1235, -5.3018, -5.1958,  ..., -5.6678, -5.4840, -5.4435],\n",
      "        [-4.9630, -5.0344, -4.9168,  ..., -5.0490, -4.9022, -5.0167],\n",
      "        ...,\n",
      "        [-5.1395, -4.9062, -4.7397,  ..., -4.9016, -5.0143, -4.9869],\n",
      "        [-4.9191, -4.9275, -4.9738,  ..., -4.8679, -4.8923, -4.9015],\n",
      "        [-4.7417, -4.7559, -4.7680,  ..., -4.8845, -4.9212, -5.0035]])\n",
      "spectrogram type <class 'torch.Tensor'>\n",
      "speech tensor([ 8.1847e-06,  1.3142e-05, -2.3868e-06,  ..., -7.2127e-06,\n",
      "         1.5091e-05,  5.0695e-07])\n",
      "speech shape torch.Size([14848])\n",
      "Speech synthesis complete and saved for number 9 to ./output/9_T5modelFineGetallen.wav\n"
     ]
    }
   ],
   "source": [
    "getal = '9'\n",
    "\n",
    "inputs = processor(text = getal, return_tensors=\"pt\")\n",
    "\n",
    "print('inputs[\"input_ids\"]' , inputs[\"input_ids\"] )\n",
    "\n",
    "spectrogram = model.generate_speech(inputs[\"input_ids\"], speaker_embeddings)\n",
    "\n",
    "print('spectrogram' , spectrogram)\n",
    "print('spectrogram type' , type(spectrogram))\n",
    "\n",
    "# # Convert PyTorch tensor to NumPy array\n",
    "# spectrogramnp = spectrogram.cpu().numpy().T\n",
    "\n",
    "# print('spectrogramnp.shape' , spectrogramnp.shape)\n",
    "\n",
    "# # Convert Mel spectrogram back to audio\n",
    "# speech = librosa.feature.inverse.mel_to_audio(spectrogramnp, sr=16000)\n",
    "\n",
    "speech = model.generate_speech(inputs[\"input_ids\"], speaker_embeddings, vocoder=vocoder)\n",
    "\n",
    "print('speech' , speech)\n",
    "print('speech shape' , speech.shape)\n",
    "\n",
    "# Play the sound\n",
    "sd.play(speech, 16000)\n",
    "sd.wait()  # Wait until playback finishes\n",
    "\n",
    "outfilename = ''\n",
    "\n",
    "if finetuned:\n",
    "    outfilename = './output/' + getal + '_T5modelFineGetallen.wav'\n",
    "else:\n",
    "    outfilename = './output/' + getal + '_T5modelOrigGetallen.wav'\n",
    "\n",
    "sf.write(outfilename, speech, 16000)\n",
    "\n",
    "print(\"Speech synthesis complete and saved for number \" + getal + ' to ' + outfilename)\n"
   ]
  }
 ],
 "metadata": {
  "kernelspec": {
   "display_name": "Python 3",
   "language": "python",
   "name": "python3"
  },
  "language_info": {
   "codemirror_mode": {
    "name": "ipython",
    "version": 3
   },
   "file_extension": ".py",
   "mimetype": "text/x-python",
   "name": "python",
   "nbconvert_exporter": "python",
   "pygments_lexer": "ipython3",
   "version": "3.11.9"
  }
 },
 "nbformat": 4,
 "nbformat_minor": 5
}
