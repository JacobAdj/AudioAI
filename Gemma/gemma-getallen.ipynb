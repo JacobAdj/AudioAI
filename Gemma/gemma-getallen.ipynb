{
 "cells": [
  {
   "cell_type": "markdown",
   "metadata": {
    "id": "G3MMAcssHTML"
   },
   "source": [
    "<link rel=\"stylesheet\" href=\"/site-assets/css/gemma.css\">\n",
    "<link rel=\"stylesheet\" href=\"https://fonts.googleapis.com/css2?family=Google+Symbols:opsz,wght,FILL,GRAD@20..48,100..700,0..1,-50..200\" />"
   ]
  },
  {
   "cell_type": "markdown",
   "metadata": {
    "id": "SDEExiAk4fLb"
   },
   "source": [
    "# Fine-tuning Gemma to understand Dutch numerals "
   ]
  },
  {
   "cell_type": "markdown",
   "metadata": {
    "id": "Tce3stUlHN0L"
   },
   "source": [
    "## Introduction\n",
    "\n",
    "Here I demonstrate fine-tuning the Gemma Large Language Model using Low Rank Adaptation (LoRA) along the lines decribed in this article:\n",
    "<a target=\"_blank\" href=\"https://ai.google.dev/gemma/docs/lora_tuning\"><img src=\"https://ai.google.dev/static/site-assets/images/docs/notebook-site-button.png\" height=\"15\" width=\"15\" />Fine-tune Gemma models in Keras using LoRA</a>.\n",
    "\n",
    "I use an example in Dutch language understanding: understand Dutch numerals written in words. This is a fairly complex problem on which Gemma performs poorly, as not only are the words in Dutch, but Dutch numerals are written in a different order than English ones and several words can be strung together in various ways.\n",
    "\n",
    "For example the number 34 is written as vierendertig (vier = 4 , en = and, dertig = 30). 483 is written as vierhonderddrieentachtig (vier = 4 , honderd = 100 , drie = 3 , en = and, tachtig = 80 - but no 'en' between 'vierhonderd' and 'drieentachtig').\n"
   ]
  },
  {
   "cell_type": "markdown",
   "metadata": {
    "id": "lSGRSsRPgkzK"
   },
   "source": [
    "## Background\n",
    "\n",
    "Gemma is a family of lightweight, state-of-the art open models built from the same research and technology used to create the Gemini models.\n",
    "\n",
    "Large Language Models (LLMs) like Gemma have been shown to be effective at a variety of NLP tasks. An LLM is first pre-trained on a large corpus of text in a self-supervised fashion. Pre-training helps LLMs learn general-purpose knowledge, such as statistical relationships between words. An LLM can then be fine-tuned with domain-specific data to perform downstream tasks (such as sentiment analysis).\n",
    "\n",
    "LLMs are extremely large in size (parameters in the order of billions). Full fine-tuning (which updates all the parameters in the model) is not required for most applications because typical fine-tuning datasets are relatively much smaller than the pre-training datasets.\n",
    "\n",
    "[Low Rank Adaptation (LoRA)](https://arxiv.org/abs/2106.09685) is a fine-tuning technique which greatly reduces the number of trainable parameters for downstream tasks by freezing the weights of the model and inserting a smaller number of new weights into the model. This makes training with LoRA much faster and more memory-efficient, and produces smaller model weights (a few hundred MBs), all while maintaining the quality of the model outputs.\n",
    "\n"
   ]
  },
  {
   "cell_type": "markdown",
   "metadata": {},
   "source": [
    "## The Code"
   ]
  },
  {
   "cell_type": "markdown",
   "metadata": {
    "id": "CuEUAKJW1QkQ"
   },
   "source": [
    "### Install dependencies\n",
    "\n",
    "Install Keras, KerasNLP, and other dependencies."
   ]
  },
  {
   "cell_type": "code",
   "execution_count": 3,
   "metadata": {
    "execution": {
     "iopub.execute_input": "2024-12-15T20:47:58.200177Z",
     "iopub.status.busy": "2024-12-15T20:47:58.199880Z",
     "iopub.status.idle": "2024-12-15T20:48:18.788222Z",
     "shell.execute_reply": "2024-12-15T20:48:18.787079Z",
     "shell.execute_reply.started": "2024-12-15T20:47:58.200152Z"
    },
    "id": "1eeBtYqJsZPG",
    "trusted": true
   },
   "outputs": [
    {
     "name": "stdout",
     "output_type": "stream",
     "text": [
      "Note: you may need to restart the kernel to use updated packages.\n"
     ]
    },
    {
     "name": "stderr",
     "output_type": "stream",
     "text": [
      "DEPRECATION: Loading egg at c:\\bin\\python313\\lib\\site-packages\\tabularocr-0.1.0-py3.13.egg is deprecated. pip 25.1 will enforce this behaviour change. A possible replacement is to use pip for package installation. Discussion can be found at https://github.com/pypa/pip/issues/12330\n"
     ]
    },
    {
     "name": "stdout",
     "output_type": "stream",
     "text": [
      "Collecting jax\n",
      "  Downloading jax-0.4.37-py3-none-any.whl.metadata (22 kB)\n",
      "Collecting jaxlib\n",
      "  Downloading jaxlib-0.4.36-cp313-cp313-win_amd64.whl.metadata (1.1 kB)\n",
      "Requirement already satisfied: ml_dtypes>=0.4.0 in c:\\bin\\python313\\lib\\site-packages (from jax) (0.5.0)\n",
      "Requirement already satisfied: numpy>=1.24 in c:\\bin\\python313\\lib\\site-packages (from jax) (2.1.3)\n",
      "Collecting opt_einsum (from jax)\n",
      "  Using cached opt_einsum-3.4.0-py3-none-any.whl.metadata (6.3 kB)\n",
      "Requirement already satisfied: scipy>=1.10 in c:\\bin\\python313\\lib\\site-packages (from jax) (1.14.1)\n",
      "Downloading jax-0.4.37-py3-none-any.whl (2.2 MB)\n",
      "   ---------------------------------------- 0.0/2.2 MB ? eta -:--:--\n",
      "   ---------------------------------------- 2.2/2.2 MB 23.1 MB/s eta 0:00:00\n",
      "Downloading jaxlib-0.4.36-cp313-cp313-win_amd64.whl (63.3 MB)\n",
      "   ---------------------------------------- 0.0/63.3 MB ? eta -:--:--\n",
      "    --------------------------------------- 1.0/63.3 MB 129.1 MB/s eta 0:00:01\n",
      "   - -------------------------------------- 2.4/63.3 MB 4.6 MB/s eta 0:00:14\n",
      "   -- ------------------------------------- 3.9/63.3 MB 5.3 MB/s eta 0:00:12\n",
      "   --- ------------------------------------ 5.2/63.3 MB 5.5 MB/s eta 0:00:11\n",
      "   --- ------------------------------------ 5.8/63.3 MB 5.0 MB/s eta 0:00:12\n",
      "   ---- ----------------------------------- 7.3/63.3 MB 5.4 MB/s eta 0:00:11\n",
      "   ----- ---------------------------------- 8.4/63.3 MB 5.3 MB/s eta 0:00:11\n",
      "   ----- ---------------------------------- 9.4/63.3 MB 5.3 MB/s eta 0:00:11\n",
      "   ------ --------------------------------- 10.5/63.3 MB 5.3 MB/s eta 0:00:10\n",
      "   ------ --------------------------------- 10.5/63.3 MB 5.3 MB/s eta 0:00:10\n",
      "   ------- -------------------------------- 11.5/63.3 MB 4.9 MB/s eta 0:00:11\n",
      "   ------- -------------------------------- 12.6/63.3 MB 4.9 MB/s eta 0:00:11\n",
      "   -------- ------------------------------- 13.6/63.3 MB 4.6 MB/s eta 0:00:11\n",
      "   --------- ------------------------------ 14.7/63.3 MB 4.6 MB/s eta 0:00:11\n",
      "   --------- ------------------------------ 15.7/63.3 MB 4.6 MB/s eta 0:00:11\n",
      "   ---------- ----------------------------- 16.8/63.3 MB 4.6 MB/s eta 0:00:11\n",
      "   ----------- ---------------------------- 17.8/63.3 MB 4.4 MB/s eta 0:00:11\n",
      "   ----------- ---------------------------- 18.9/63.3 MB 4.5 MB/s eta 0:00:10\n",
      "   ------------ --------------------------- 19.9/63.3 MB 4.4 MB/s eta 0:00:10\n",
      "   ------------- -------------------------- 21.0/63.3 MB 4.4 MB/s eta 0:00:10\n",
      "   ------------- -------------------------- 22.0/63.3 MB 4.4 MB/s eta 0:00:10\n",
      "   -------------- ------------------------- 23.1/63.3 MB 4.4 MB/s eta 0:00:10\n",
      "   --------------- ------------------------ 24.1/63.3 MB 4.5 MB/s eta 0:00:09\n",
      "   --------------- ------------------------ 25.2/63.3 MB 4.5 MB/s eta 0:00:09\n",
      "   ---------------- ----------------------- 26.2/63.3 MB 4.5 MB/s eta 0:00:09\n",
      "   ----------------- ---------------------- 27.3/63.3 MB 4.5 MB/s eta 0:00:09\n",
      "   ----------------- ---------------------- 28.3/63.3 MB 4.5 MB/s eta 0:00:08\n",
      "   ------------------ --------------------- 29.4/63.3 MB 4.5 MB/s eta 0:00:08\n",
      "   ------------------ --------------------- 29.4/63.3 MB 4.5 MB/s eta 0:00:08\n",
      "   ------------------- -------------------- 30.4/63.3 MB 4.4 MB/s eta 0:00:08\n",
      "   ------------------- -------------------- 31.5/63.3 MB 4.4 MB/s eta 0:00:08\n",
      "   -------------------- ------------------- 32.5/63.3 MB 4.4 MB/s eta 0:00:08\n",
      "   --------------------- ------------------ 33.6/63.3 MB 4.4 MB/s eta 0:00:07\n",
      "   --------------------- ------------------ 33.6/63.3 MB 4.4 MB/s eta 0:00:07\n",
      "   --------------------- ------------------ 34.6/63.3 MB 4.3 MB/s eta 0:00:07\n",
      "   --------------------- ------------------ 34.6/63.3 MB 4.3 MB/s eta 0:00:07\n",
      "   --------------------- ------------------ 34.6/63.3 MB 4.3 MB/s eta 0:00:07\n",
      "   --------------------- ------------------ 34.6/63.3 MB 4.3 MB/s eta 0:00:07\n",
      "   ---------------------- ----------------- 35.7/63.3 MB 4.1 MB/s eta 0:00:07\n",
      "   ----------------------- ---------------- 36.7/63.3 MB 4.1 MB/s eta 0:00:07\n",
      "   ----------------------- ---------------- 37.7/63.3 MB 4.1 MB/s eta 0:00:07\n",
      "   ------------------------ --------------- 38.8/63.3 MB 4.1 MB/s eta 0:00:06\n",
      "   ------------------------- -------------- 39.8/63.3 MB 4.1 MB/s eta 0:00:06\n",
      "   ------------------------- -------------- 40.9/63.3 MB 4.1 MB/s eta 0:00:06\n",
      "   ------------------------- -------------- 40.9/63.3 MB 4.1 MB/s eta 0:00:06\n",
      "   -------------------------- ------------- 41.9/63.3 MB 4.1 MB/s eta 0:00:06\n",
      "   --------------------------- ------------ 43.0/63.3 MB 4.1 MB/s eta 0:00:06\n",
      "   --------------------------- ------------ 44.0/63.3 MB 4.1 MB/s eta 0:00:05\n",
      "   ---------------------------- ----------- 45.1/63.3 MB 4.1 MB/s eta 0:00:05\n",
      "   ---------------------------- ----------- 45.4/63.3 MB 4.0 MB/s eta 0:00:05\n",
      "   ----------------------------- ---------- 46.1/63.3 MB 4.1 MB/s eta 0:00:05\n",
      "   ----------------------------- ---------- 46.1/63.3 MB 4.1 MB/s eta 0:00:05\n",
      "   ----------------------------- ---------- 47.2/63.3 MB 4.0 MB/s eta 0:00:05\n",
      "   ------------------------------ --------- 48.2/63.3 MB 4.0 MB/s eta 0:00:04\n",
      "   ------------------------------- -------- 49.3/63.3 MB 4.0 MB/s eta 0:00:04\n",
      "   ------------------------------- -------- 50.3/63.3 MB 4.0 MB/s eta 0:00:04\n",
      "   -------------------------------- ------- 51.4/63.3 MB 4.0 MB/s eta 0:00:03\n",
      "   --------------------------------- ------ 52.4/63.3 MB 4.0 MB/s eta 0:00:03\n",
      "   --------------------------------- ------ 53.5/63.3 MB 4.0 MB/s eta 0:00:03\n",
      "   ---------------------------------- ----- 54.3/63.3 MB 4.0 MB/s eta 0:00:03\n",
      "   ----------------------------------- ---- 55.6/63.3 MB 4.1 MB/s eta 0:00:02\n",
      "   ----------------------------------- ---- 56.6/63.3 MB 4.1 MB/s eta 0:00:02\n",
      "   ------------------------------------ --- 57.7/63.3 MB 4.1 MB/s eta 0:00:02\n",
      "   ------------------------------------- -- 58.7/63.3 MB 4.1 MB/s eta 0:00:02\n",
      "   ------------------------------------- -- 58.7/63.3 MB 4.1 MB/s eta 0:00:02\n",
      "   ------------------------------------- -- 59.8/63.3 MB 4.1 MB/s eta 0:00:01\n",
      "   -------------------------------------- - 60.8/63.3 MB 4.1 MB/s eta 0:00:01\n",
      "   ---------------------------------------  61.9/63.3 MB 4.1 MB/s eta 0:00:01\n",
      "   ---------------------------------------  62.9/63.3 MB 4.1 MB/s eta 0:00:01\n",
      "   ---------------------------------------  63.2/63.3 MB 4.1 MB/s eta 0:00:01\n",
      "   ---------------------------------------  63.2/63.3 MB 4.1 MB/s eta 0:00:01\n",
      "   ---------------------------------------- 63.3/63.3 MB 3.9 MB/s eta 0:00:00\n",
      "Using cached opt_einsum-3.4.0-py3-none-any.whl (71 kB)\n",
      "Installing collected packages: opt_einsum, jaxlib, jax\n",
      "Successfully installed jax-0.4.37 jaxlib-0.4.36 opt_einsum-3.4.0\n",
      "Note: you may need to restart the kernel to use updated packages.\n"
     ]
    },
    {
     "name": "stderr",
     "output_type": "stream",
     "text": [
      "DEPRECATION: Loading egg at c:\\bin\\python313\\lib\\site-packages\\tabularocr-0.1.0-py3.13.egg is deprecated. pip 25.1 will enforce this behaviour change. A possible replacement is to use pip for package installation. Discussion can be found at https://github.com/pypa/pip/issues/12330\n"
     ]
    },
    {
     "name": "stdout",
     "output_type": "stream",
     "text": [
      "Note: you may need to restart the kernel to use updated packages.\n"
     ]
    },
    {
     "name": "stderr",
     "output_type": "stream",
     "text": [
      "DEPRECATION: Loading egg at c:\\bin\\python313\\lib\\site-packages\\tabularocr-0.1.0-py3.13.egg is deprecated. pip 25.1 will enforce this behaviour change. A possible replacement is to use pip for package installation. Discussion can be found at https://github.com/pypa/pip/issues/12330\n"
     ]
    }
   ],
   "source": [
    "# Install Keras 3 last. See https://keras.io/getting_started/ for more details.\n",
    "%pip install -q -U keras_nlp\n",
    "\n",
    "%pip install jax jaxlib\n",
    "\n",
    "%pip install -q -U \"keras>=3\""
   ]
  },
  {
   "cell_type": "markdown",
   "metadata": {
    "id": "rGLS-l5TxIR4"
   },
   "source": [
    "### Select a backend\n",
    "\n",
    "Keras is a high-level, multi-framework deep learning API designed for simplicity and ease of use. Using Keras 3, you can run workflows on one of three backends: TensorFlow, JAX, or PyTorch.\n",
    "\n",
    "For this demo, configure the backend for JAX."
   ]
  },
  {
   "cell_type": "code",
   "execution_count": 1,
   "metadata": {
    "execution": {
     "iopub.execute_input": "2024-12-15T20:48:18.790207Z",
     "iopub.status.busy": "2024-12-15T20:48:18.789918Z",
     "iopub.status.idle": "2024-12-15T20:48:18.794783Z",
     "shell.execute_reply": "2024-12-15T20:48:18.794034Z",
     "shell.execute_reply.started": "2024-12-15T20:48:18.790179Z"
    },
    "id": "yn5uy8X8sdD0",
    "trusted": true
   },
   "outputs": [],
   "source": [
    "import os\n",
    "\n",
    "os.environ[\"KERAS_BACKEND\"] = \"jax\"  # Or \"torch\" or \"tensorflow\".\n",
    "# Avoid memory fragmentation on JAX backend.\n",
    "os.environ[\"XLA_PYTHON_CLIENT_MEM_FRACTION\"]=\"1.00\""
   ]
  },
  {
   "cell_type": "markdown",
   "metadata": {
    "id": "hZs8XXqUKRmi"
   },
   "source": [
    "### Import packages\n",
    "\n",
    "Import Keras and KerasNLP."
   ]
  },
  {
   "cell_type": "code",
   "execution_count": 2,
   "metadata": {
    "execution": {
     "iopub.execute_input": "2024-12-15T20:48:18.796381Z",
     "iopub.status.busy": "2024-12-15T20:48:18.796142Z",
     "iopub.status.idle": "2024-12-15T20:48:30.326003Z",
     "shell.execute_reply": "2024-12-15T20:48:30.325045Z",
     "shell.execute_reply.started": "2024-12-15T20:48:18.796357Z"
    },
    "id": "FYHyPUA9hKTf",
    "trusted": true
   },
   "outputs": [
    {
     "ename": "RuntimeError",
     "evalue": "This version of jaxlib was built using AVX instructions, which your CPU and/or operating system do not support. You may be able work around this issue by building jaxlib from source.",
     "output_type": "error",
     "traceback": [
      "\u001b[1;31m---------------------------------------------------------------------------\u001b[0m",
      "\u001b[1;31mRuntimeError\u001b[0m                              Traceback (most recent call last)",
      "Cell \u001b[1;32mIn[2], line 1\u001b[0m\n\u001b[1;32m----> 1\u001b[0m \u001b[38;5;28;01mimport\u001b[39;00m \u001b[38;5;21;01mkeras\u001b[39;00m\n\u001b[0;32m      2\u001b[0m \u001b[38;5;28;01mimport\u001b[39;00m \u001b[38;5;21;01mkeras_nlp\u001b[39;00m\n",
      "File \u001b[1;32mc:\\bin\\Python313\\Lib\\site-packages\\keras\\__init__.py:2\u001b[0m\n\u001b[0;32m      1\u001b[0m \u001b[38;5;66;03m# DO NOT EDIT. Generated by api_gen.sh\u001b[39;00m\n\u001b[1;32m----> 2\u001b[0m \u001b[38;5;28;01mfrom\u001b[39;00m \u001b[38;5;21;01mkeras\u001b[39;00m\u001b[38;5;21;01m.\u001b[39;00m\u001b[38;5;21;01mapi\u001b[39;00m \u001b[38;5;28;01mimport\u001b[39;00m DTypePolicy\n\u001b[0;32m      3\u001b[0m \u001b[38;5;28;01mfrom\u001b[39;00m \u001b[38;5;21;01mkeras\u001b[39;00m\u001b[38;5;21;01m.\u001b[39;00m\u001b[38;5;21;01mapi\u001b[39;00m \u001b[38;5;28;01mimport\u001b[39;00m FloatDTypePolicy\n\u001b[0;32m      4\u001b[0m \u001b[38;5;28;01mfrom\u001b[39;00m \u001b[38;5;21;01mkeras\u001b[39;00m\u001b[38;5;21;01m.\u001b[39;00m\u001b[38;5;21;01mapi\u001b[39;00m \u001b[38;5;28;01mimport\u001b[39;00m Function\n",
      "File \u001b[1;32mc:\\bin\\Python313\\Lib\\site-packages\\keras\\api\\__init__.py:8\u001b[0m\n\u001b[0;32m      1\u001b[0m \u001b[38;5;124;03m\"\"\"DO NOT EDIT.\u001b[39;00m\n\u001b[0;32m      2\u001b[0m \n\u001b[0;32m      3\u001b[0m \u001b[38;5;124;03mThis file was autogenerated. Do not edit it by hand,\u001b[39;00m\n\u001b[0;32m      4\u001b[0m \u001b[38;5;124;03msince your modifications would be overwritten.\u001b[39;00m\n\u001b[0;32m      5\u001b[0m \u001b[38;5;124;03m\"\"\"\u001b[39;00m\n\u001b[1;32m----> 8\u001b[0m \u001b[38;5;28;01mfrom\u001b[39;00m \u001b[38;5;21;01mkeras\u001b[39;00m\u001b[38;5;21;01m.\u001b[39;00m\u001b[38;5;21;01mapi\u001b[39;00m \u001b[38;5;28;01mimport\u001b[39;00m activations\n\u001b[0;32m      9\u001b[0m \u001b[38;5;28;01mfrom\u001b[39;00m \u001b[38;5;21;01mkeras\u001b[39;00m\u001b[38;5;21;01m.\u001b[39;00m\u001b[38;5;21;01mapi\u001b[39;00m \u001b[38;5;28;01mimport\u001b[39;00m applications\n\u001b[0;32m     10\u001b[0m \u001b[38;5;28;01mfrom\u001b[39;00m \u001b[38;5;21;01mkeras\u001b[39;00m\u001b[38;5;21;01m.\u001b[39;00m\u001b[38;5;21;01mapi\u001b[39;00m \u001b[38;5;28;01mimport\u001b[39;00m backend\n",
      "File \u001b[1;32mc:\\bin\\Python313\\Lib\\site-packages\\keras\\api\\activations\\__init__.py:7\u001b[0m\n\u001b[0;32m      1\u001b[0m \u001b[38;5;124;03m\"\"\"DO NOT EDIT.\u001b[39;00m\n\u001b[0;32m      2\u001b[0m \n\u001b[0;32m      3\u001b[0m \u001b[38;5;124;03mThis file was autogenerated. Do not edit it by hand,\u001b[39;00m\n\u001b[0;32m      4\u001b[0m \u001b[38;5;124;03msince your modifications would be overwritten.\u001b[39;00m\n\u001b[0;32m      5\u001b[0m \u001b[38;5;124;03m\"\"\"\u001b[39;00m\n\u001b[1;32m----> 7\u001b[0m \u001b[38;5;28;01mfrom\u001b[39;00m \u001b[38;5;21;01mkeras\u001b[39;00m\u001b[38;5;21;01m.\u001b[39;00m\u001b[38;5;21;01msrc\u001b[39;00m\u001b[38;5;21;01m.\u001b[39;00m\u001b[38;5;21;01mactivations\u001b[39;00m \u001b[38;5;28;01mimport\u001b[39;00m deserialize\n\u001b[0;32m      8\u001b[0m \u001b[38;5;28;01mfrom\u001b[39;00m \u001b[38;5;21;01mkeras\u001b[39;00m\u001b[38;5;21;01m.\u001b[39;00m\u001b[38;5;21;01msrc\u001b[39;00m\u001b[38;5;21;01m.\u001b[39;00m\u001b[38;5;21;01mactivations\u001b[39;00m \u001b[38;5;28;01mimport\u001b[39;00m get\n\u001b[0;32m      9\u001b[0m \u001b[38;5;28;01mfrom\u001b[39;00m \u001b[38;5;21;01mkeras\u001b[39;00m\u001b[38;5;21;01m.\u001b[39;00m\u001b[38;5;21;01msrc\u001b[39;00m\u001b[38;5;21;01m.\u001b[39;00m\u001b[38;5;21;01mactivations\u001b[39;00m \u001b[38;5;28;01mimport\u001b[39;00m serialize\n",
      "File \u001b[1;32mc:\\bin\\Python313\\Lib\\site-packages\\keras\\src\\__init__.py:1\u001b[0m\n\u001b[1;32m----> 1\u001b[0m \u001b[38;5;28;01mfrom\u001b[39;00m \u001b[38;5;21;01mkeras\u001b[39;00m\u001b[38;5;21;01m.\u001b[39;00m\u001b[38;5;21;01msrc\u001b[39;00m \u001b[38;5;28;01mimport\u001b[39;00m activations\n\u001b[0;32m      2\u001b[0m \u001b[38;5;28;01mfrom\u001b[39;00m \u001b[38;5;21;01mkeras\u001b[39;00m\u001b[38;5;21;01m.\u001b[39;00m\u001b[38;5;21;01msrc\u001b[39;00m \u001b[38;5;28;01mimport\u001b[39;00m applications\n\u001b[0;32m      3\u001b[0m \u001b[38;5;28;01mfrom\u001b[39;00m \u001b[38;5;21;01mkeras\u001b[39;00m\u001b[38;5;21;01m.\u001b[39;00m\u001b[38;5;21;01msrc\u001b[39;00m \u001b[38;5;28;01mimport\u001b[39;00m backend\n",
      "File \u001b[1;32mc:\\bin\\Python313\\Lib\\site-packages\\keras\\src\\activations\\__init__.py:3\u001b[0m\n\u001b[0;32m      1\u001b[0m \u001b[38;5;28;01mimport\u001b[39;00m \u001b[38;5;21;01mtypes\u001b[39;00m\n\u001b[1;32m----> 3\u001b[0m \u001b[38;5;28;01mfrom\u001b[39;00m \u001b[38;5;21;01mkeras\u001b[39;00m\u001b[38;5;21;01m.\u001b[39;00m\u001b[38;5;21;01msrc\u001b[39;00m\u001b[38;5;21;01m.\u001b[39;00m\u001b[38;5;21;01mactivations\u001b[39;00m\u001b[38;5;21;01m.\u001b[39;00m\u001b[38;5;21;01mactivations\u001b[39;00m \u001b[38;5;28;01mimport\u001b[39;00m celu\n\u001b[0;32m      4\u001b[0m \u001b[38;5;28;01mfrom\u001b[39;00m \u001b[38;5;21;01mkeras\u001b[39;00m\u001b[38;5;21;01m.\u001b[39;00m\u001b[38;5;21;01msrc\u001b[39;00m\u001b[38;5;21;01m.\u001b[39;00m\u001b[38;5;21;01mactivations\u001b[39;00m\u001b[38;5;21;01m.\u001b[39;00m\u001b[38;5;21;01mactivations\u001b[39;00m \u001b[38;5;28;01mimport\u001b[39;00m elu\n\u001b[0;32m      5\u001b[0m \u001b[38;5;28;01mfrom\u001b[39;00m \u001b[38;5;21;01mkeras\u001b[39;00m\u001b[38;5;21;01m.\u001b[39;00m\u001b[38;5;21;01msrc\u001b[39;00m\u001b[38;5;21;01m.\u001b[39;00m\u001b[38;5;21;01mactivations\u001b[39;00m\u001b[38;5;21;01m.\u001b[39;00m\u001b[38;5;21;01mactivations\u001b[39;00m \u001b[38;5;28;01mimport\u001b[39;00m exponential\n",
      "File \u001b[1;32mc:\\bin\\Python313\\Lib\\site-packages\\keras\\src\\activations\\activations.py:1\u001b[0m\n\u001b[1;32m----> 1\u001b[0m \u001b[38;5;28;01mfrom\u001b[39;00m \u001b[38;5;21;01mkeras\u001b[39;00m\u001b[38;5;21;01m.\u001b[39;00m\u001b[38;5;21;01msrc\u001b[39;00m \u001b[38;5;28;01mimport\u001b[39;00m backend\n\u001b[0;32m      2\u001b[0m \u001b[38;5;28;01mfrom\u001b[39;00m \u001b[38;5;21;01mkeras\u001b[39;00m\u001b[38;5;21;01m.\u001b[39;00m\u001b[38;5;21;01msrc\u001b[39;00m \u001b[38;5;28;01mimport\u001b[39;00m ops\n\u001b[0;32m      3\u001b[0m \u001b[38;5;28;01mfrom\u001b[39;00m \u001b[38;5;21;01mkeras\u001b[39;00m\u001b[38;5;21;01m.\u001b[39;00m\u001b[38;5;21;01msrc\u001b[39;00m\u001b[38;5;21;01m.\u001b[39;00m\u001b[38;5;21;01mapi_export\u001b[39;00m \u001b[38;5;28;01mimport\u001b[39;00m keras_export\n",
      "File \u001b[1;32mc:\\bin\\Python313\\Lib\\site-packages\\keras\\src\\backend\\__init__.py:41\u001b[0m\n\u001b[0;32m     39\u001b[0m     \u001b[38;5;28;01mfrom\u001b[39;00m \u001b[38;5;21;01mkeras\u001b[39;00m\u001b[38;5;21;01m.\u001b[39;00m\u001b[38;5;21;01msrc\u001b[39;00m\u001b[38;5;21;01m.\u001b[39;00m\u001b[38;5;21;01mbackend\u001b[39;00m\u001b[38;5;21;01m.\u001b[39;00m\u001b[38;5;21;01mtensorflow\u001b[39;00m\u001b[38;5;21;01m.\u001b[39;00m\u001b[38;5;21;01mcore\u001b[39;00m \u001b[38;5;28;01mimport\u001b[39;00m Variable \u001b[38;5;28;01mas\u001b[39;00m BackendVariable\n\u001b[0;32m     40\u001b[0m \u001b[38;5;28;01melif\u001b[39;00m backend() \u001b[38;5;241m==\u001b[39m \u001b[38;5;124m\"\u001b[39m\u001b[38;5;124mjax\u001b[39m\u001b[38;5;124m\"\u001b[39m:\n\u001b[1;32m---> 41\u001b[0m     \u001b[38;5;28;01mfrom\u001b[39;00m \u001b[38;5;21;01mkeras\u001b[39;00m\u001b[38;5;21;01m.\u001b[39;00m\u001b[38;5;21;01msrc\u001b[39;00m\u001b[38;5;21;01m.\u001b[39;00m\u001b[38;5;21;01mbackend\u001b[39;00m\u001b[38;5;21;01m.\u001b[39;00m\u001b[38;5;21;01mjax\u001b[39;00m \u001b[38;5;28;01mimport\u001b[39;00m \u001b[38;5;241m*\u001b[39m  \u001b[38;5;66;03m# noqa: F403\u001b[39;00m\n\u001b[0;32m     42\u001b[0m     \u001b[38;5;28;01mfrom\u001b[39;00m \u001b[38;5;21;01mkeras\u001b[39;00m\u001b[38;5;21;01m.\u001b[39;00m\u001b[38;5;21;01msrc\u001b[39;00m\u001b[38;5;21;01m.\u001b[39;00m\u001b[38;5;21;01mbackend\u001b[39;00m\u001b[38;5;21;01m.\u001b[39;00m\u001b[38;5;21;01mjax\u001b[39;00m\u001b[38;5;21;01m.\u001b[39;00m\u001b[38;5;21;01mcore\u001b[39;00m \u001b[38;5;28;01mimport\u001b[39;00m Variable \u001b[38;5;28;01mas\u001b[39;00m BackendVariable\n\u001b[0;32m     43\u001b[0m \u001b[38;5;28;01melif\u001b[39;00m backend() \u001b[38;5;241m==\u001b[39m \u001b[38;5;124m\"\u001b[39m\u001b[38;5;124mtorch\u001b[39m\u001b[38;5;124m\"\u001b[39m:\n",
      "File \u001b[1;32mc:\\bin\\Python313\\Lib\\site-packages\\keras\\src\\backend\\jax\\__init__.py:2\u001b[0m\n\u001b[0;32m      1\u001b[0m \u001b[38;5;28;01mfrom\u001b[39;00m \u001b[38;5;21;01mkeras\u001b[39;00m\u001b[38;5;21;01m.\u001b[39;00m\u001b[38;5;21;01msrc\u001b[39;00m\u001b[38;5;21;01m.\u001b[39;00m\u001b[38;5;21;01mbackend\u001b[39;00m\u001b[38;5;21;01m.\u001b[39;00m\u001b[38;5;21;01mcommon\u001b[39;00m\u001b[38;5;21;01m.\u001b[39;00m\u001b[38;5;21;01mname_scope\u001b[39;00m \u001b[38;5;28;01mimport\u001b[39;00m name_scope\n\u001b[1;32m----> 2\u001b[0m \u001b[38;5;28;01mfrom\u001b[39;00m \u001b[38;5;21;01mkeras\u001b[39;00m\u001b[38;5;21;01m.\u001b[39;00m\u001b[38;5;21;01msrc\u001b[39;00m\u001b[38;5;21;01m.\u001b[39;00m\u001b[38;5;21;01mbackend\u001b[39;00m\u001b[38;5;21;01m.\u001b[39;00m\u001b[38;5;21;01mjax\u001b[39;00m \u001b[38;5;28;01mimport\u001b[39;00m core\n\u001b[0;32m      3\u001b[0m \u001b[38;5;28;01mfrom\u001b[39;00m \u001b[38;5;21;01mkeras\u001b[39;00m\u001b[38;5;21;01m.\u001b[39;00m\u001b[38;5;21;01msrc\u001b[39;00m\u001b[38;5;21;01m.\u001b[39;00m\u001b[38;5;21;01mbackend\u001b[39;00m\u001b[38;5;21;01m.\u001b[39;00m\u001b[38;5;21;01mjax\u001b[39;00m \u001b[38;5;28;01mimport\u001b[39;00m distribution_lib\n\u001b[0;32m      4\u001b[0m \u001b[38;5;28;01mfrom\u001b[39;00m \u001b[38;5;21;01mkeras\u001b[39;00m\u001b[38;5;21;01m.\u001b[39;00m\u001b[38;5;21;01msrc\u001b[39;00m\u001b[38;5;21;01m.\u001b[39;00m\u001b[38;5;21;01mbackend\u001b[39;00m\u001b[38;5;21;01m.\u001b[39;00m\u001b[38;5;21;01mjax\u001b[39;00m \u001b[38;5;28;01mimport\u001b[39;00m image\n",
      "File \u001b[1;32mc:\\bin\\Python313\\Lib\\site-packages\\keras\\src\\backend\\jax\\core.py:1\u001b[0m\n\u001b[1;32m----> 1\u001b[0m \u001b[38;5;28;01mimport\u001b[39;00m \u001b[38;5;21;01mjax\u001b[39;00m\n\u001b[0;32m      2\u001b[0m \u001b[38;5;28;01mimport\u001b[39;00m \u001b[38;5;21;01mjax\u001b[39;00m\u001b[38;5;21;01m.\u001b[39;00m\u001b[38;5;21;01mexperimental\u001b[39;00m\u001b[38;5;21;01m.\u001b[39;00m\u001b[38;5;21;01msparse\u001b[39;00m \u001b[38;5;28;01mas\u001b[39;00m \u001b[38;5;21;01mjax_sparse\u001b[39;00m\n\u001b[0;32m      3\u001b[0m \u001b[38;5;28;01mimport\u001b[39;00m \u001b[38;5;21;01mjax\u001b[39;00m\u001b[38;5;21;01m.\u001b[39;00m\u001b[38;5;21;01mnumpy\u001b[39;00m \u001b[38;5;28;01mas\u001b[39;00m \u001b[38;5;21;01mjnp\u001b[39;00m\n",
      "File \u001b[1;32mc:\\bin\\Python313\\Lib\\site-packages\\jax\\__init__.py:25\u001b[0m\n\u001b[0;32m     22\u001b[0m \u001b[38;5;28;01mfrom\u001b[39;00m \u001b[38;5;21;01mjax\u001b[39;00m\u001b[38;5;21;01m.\u001b[39;00m\u001b[38;5;21;01mversion\u001b[39;00m \u001b[38;5;28;01mimport\u001b[39;00m __version_info__ \u001b[38;5;28;01mas\u001b[39;00m __version_info__\n\u001b[0;32m     24\u001b[0m \u001b[38;5;66;03m# Set Cloud TPU env vars if necessary before transitively loading C++ backend\u001b[39;00m\n\u001b[1;32m---> 25\u001b[0m \u001b[38;5;28;01mfrom\u001b[39;00m \u001b[38;5;21;01mjax\u001b[39;00m\u001b[38;5;21;01m.\u001b[39;00m\u001b[38;5;21;01m_src\u001b[39;00m\u001b[38;5;21;01m.\u001b[39;00m\u001b[38;5;21;01mcloud_tpu_init\u001b[39;00m \u001b[38;5;28;01mimport\u001b[39;00m cloud_tpu_init \u001b[38;5;28;01mas\u001b[39;00m _cloud_tpu_init\n\u001b[0;32m     26\u001b[0m \u001b[38;5;28;01mtry\u001b[39;00m:\n\u001b[0;32m     27\u001b[0m   _cloud_tpu_init()\n",
      "File \u001b[1;32mc:\\bin\\Python313\\Lib\\site-packages\\jax\\_src\\cloud_tpu_init.py:17\u001b[0m\n\u001b[0;32m     15\u001b[0m \u001b[38;5;28;01mimport\u001b[39;00m \u001b[38;5;21;01mos\u001b[39;00m\n\u001b[0;32m     16\u001b[0m \u001b[38;5;28;01mfrom\u001b[39;00m \u001b[38;5;21;01mjax\u001b[39;00m \u001b[38;5;28;01mimport\u001b[39;00m version\n\u001b[1;32m---> 17\u001b[0m \u001b[38;5;28;01mfrom\u001b[39;00m \u001b[38;5;21;01mjax\u001b[39;00m\u001b[38;5;21;01m.\u001b[39;00m\u001b[38;5;21;01m_src\u001b[39;00m \u001b[38;5;28;01mimport\u001b[39;00m config\n\u001b[0;32m     18\u001b[0m \u001b[38;5;28;01mfrom\u001b[39;00m \u001b[38;5;21;01mjax\u001b[39;00m\u001b[38;5;21;01m.\u001b[39;00m\u001b[38;5;21;01m_src\u001b[39;00m \u001b[38;5;28;01mimport\u001b[39;00m hardware_utils\n\u001b[0;32m     20\u001b[0m running_in_cloud_tpu_vm: \u001b[38;5;28mbool\u001b[39m \u001b[38;5;241m=\u001b[39m \u001b[38;5;28;01mFalse\u001b[39;00m\n",
      "File \u001b[1;32mc:\\bin\\Python313\\Lib\\site-packages\\jax\\_src\\config.py:27\u001b[0m\n\u001b[0;32m     24\u001b[0m \u001b[38;5;28;01mimport\u001b[39;00m \u001b[38;5;21;01mthreading\u001b[39;00m\n\u001b[0;32m     25\u001b[0m \u001b[38;5;28;01mfrom\u001b[39;00m \u001b[38;5;21;01mtyping\u001b[39;00m \u001b[38;5;28;01mimport\u001b[39;00m Any, Generic, NamedTuple, NoReturn, Optional, Protocol, TypeVar, cast\n\u001b[1;32m---> 27\u001b[0m \u001b[38;5;28;01mfrom\u001b[39;00m \u001b[38;5;21;01mjax\u001b[39;00m\u001b[38;5;21;01m.\u001b[39;00m\u001b[38;5;21;01m_src\u001b[39;00m \u001b[38;5;28;01mimport\u001b[39;00m lib\n\u001b[0;32m     28\u001b[0m \u001b[38;5;28;01mfrom\u001b[39;00m \u001b[38;5;21;01mjax\u001b[39;00m\u001b[38;5;21;01m.\u001b[39;00m\u001b[38;5;21;01m_src\u001b[39;00m\u001b[38;5;21;01m.\u001b[39;00m\u001b[38;5;21;01mlib\u001b[39;00m \u001b[38;5;28;01mimport\u001b[39;00m guard_lib\n\u001b[0;32m     29\u001b[0m \u001b[38;5;28;01mfrom\u001b[39;00m \u001b[38;5;21;01mjax\u001b[39;00m\u001b[38;5;21;01m.\u001b[39;00m\u001b[38;5;21;01m_src\u001b[39;00m\u001b[38;5;21;01m.\u001b[39;00m\u001b[38;5;21;01mlib\u001b[39;00m \u001b[38;5;28;01mimport\u001b[39;00m jax_jit\n",
      "File \u001b[1;32mc:\\bin\\Python313\\Lib\\site-packages\\jax\\_src\\lib\\__init__.py:84\u001b[0m\n\u001b[0;32m     80\u001b[0m \u001b[38;5;66;03m# Before importing any C compiled modules from jaxlib, first import the CPU\u001b[39;00m\n\u001b[0;32m     81\u001b[0m \u001b[38;5;66;03m# feature guard module to verify that jaxlib was compiled in a way that only\u001b[39;00m\n\u001b[0;32m     82\u001b[0m \u001b[38;5;66;03m# uses instructions that are present on this machine.\u001b[39;00m\n\u001b[0;32m     83\u001b[0m \u001b[38;5;28;01mimport\u001b[39;00m \u001b[38;5;21;01mjaxlib\u001b[39;00m\u001b[38;5;21;01m.\u001b[39;00m\u001b[38;5;21;01mcpu_feature_guard\u001b[39;00m \u001b[38;5;28;01mas\u001b[39;00m \u001b[38;5;21;01mcpu_feature_guard\u001b[39;00m\n\u001b[1;32m---> 84\u001b[0m \u001b[43mcpu_feature_guard\u001b[49m\u001b[38;5;241;43m.\u001b[39;49m\u001b[43mcheck_cpu_features\u001b[49m\u001b[43m(\u001b[49m\u001b[43m)\u001b[49m\n\u001b[0;32m     86\u001b[0m \u001b[38;5;28;01mimport\u001b[39;00m \u001b[38;5;21;01mjaxlib\u001b[39;00m\u001b[38;5;21;01m.\u001b[39;00m\u001b[38;5;21;01mutils\u001b[39;00m \u001b[38;5;28;01mas\u001b[39;00m \u001b[38;5;21;01mutils\u001b[39;00m  \u001b[38;5;66;03m# noqa: F401\u001b[39;00m\n\u001b[0;32m     87\u001b[0m \u001b[38;5;28;01mimport\u001b[39;00m \u001b[38;5;21;01mjaxlib\u001b[39;00m\u001b[38;5;21;01m.\u001b[39;00m\u001b[38;5;21;01mxla_client\u001b[39;00m \u001b[38;5;28;01mas\u001b[39;00m \u001b[38;5;21;01mxla_client\u001b[39;00m\n",
      "\u001b[1;31mRuntimeError\u001b[0m: This version of jaxlib was built using AVX instructions, which your CPU and/or operating system do not support. You may be able work around this issue by building jaxlib from source."
     ]
    }
   ],
   "source": [
    "import keras\n",
    "import keras_nlp"
   ]
  },
  {
   "cell_type": "markdown",
   "metadata": {
    "id": "9T7xe_jzslv4"
   },
   "source": [
    "### Load data"
   ]
  },
  {
   "cell_type": "code",
   "execution_count": 4,
   "metadata": {
    "execution": {
     "iopub.execute_input": "2024-12-16T00:57:36.053177Z",
     "iopub.status.busy": "2024-12-16T00:57:36.052854Z",
     "iopub.status.idle": "2024-12-16T00:57:36.064138Z",
     "shell.execute_reply": "2024-12-16T00:57:36.063154Z",
     "shell.execute_reply.started": "2024-12-16T00:57:36.053151Z"
    },
    "id": "ZiS-KU9osh_N",
    "trusted": true
   },
   "outputs": [
    {
     "name": "stdout",
     "output_type": "stream",
     "text": [
      "cases 1000\n",
      "cases 100\n",
      "Instruction:\n",
      "vierhonderddrieentachtig\n",
      "\n",
      "Response:\n",
      "483\n"
     ]
    }
   ],
   "source": [
    "import json\n",
    "data = []\n",
    "with open(\"./kaggle/input/meergetallen/meergetallendata.jsonl\") as file:\n",
    "    for line in file:\n",
    "        features = json.loads(line)\n",
    "        # Format the example as a single string\n",
    "        template = \"Instruction:\\n{instruction}\\n\\nResponse:\\n{response}\"\n",
    "        data.append(template.format(**features))\n",
    "\n",
    "print('cases', len(data))\n",
    "# Use 100 training examples\n",
    "data = data[:100]\n",
    "\n",
    "print('cases', len(data))\n",
    "print(data[10])"
   ]
  },
  {
   "cell_type": "markdown",
   "metadata": {
    "id": "7RCE3fdGhDE5"
   },
   "source": [
    "### Load model\n",
    "\n",
    "We create a model using the Keras implementation of `GemmaCausalLM`, an end-to-end Gemma model for causal language modeling. A causal language model predicts the next token based on previous tokens.\n",
    "\n",
    "Create the model using the `from_preset` method:"
   ]
  },
  {
   "cell_type": "code",
   "execution_count": 5,
   "metadata": {
    "execution": {
     "iopub.execute_input": "2024-12-15T20:48:30.370421Z",
     "iopub.status.busy": "2024-12-15T20:48:30.370177Z",
     "iopub.status.idle": "2024-12-15T20:49:18.773553Z",
     "shell.execute_reply": "2024-12-15T20:49:18.772721Z",
     "shell.execute_reply.started": "2024-12-15T20:48:30.370397Z"
    },
    "id": "vz5zLEyLstfn",
    "outputId": "5b008469-4d5d-4dc2-e687-e9f66a0bd744",
    "trusted": true
   },
   "outputs": [
    {
     "ename": "NameError",
     "evalue": "name 'keras_nlp' is not defined",
     "output_type": "error",
     "traceback": [
      "\u001b[1;31m---------------------------------------------------------------------------\u001b[0m",
      "\u001b[1;31mNameError\u001b[0m                                 Traceback (most recent call last)",
      "Cell \u001b[1;32mIn[5], line 1\u001b[0m\n\u001b[1;32m----> 1\u001b[0m gemma_lm \u001b[38;5;241m=\u001b[39m \u001b[43mkeras_nlp\u001b[49m\u001b[38;5;241m.\u001b[39mmodels\u001b[38;5;241m.\u001b[39mGemmaCausalLM\u001b[38;5;241m.\u001b[39mfrom_preset(\u001b[38;5;124m\"\u001b[39m\u001b[38;5;124mgemma2_2b_en\u001b[39m\u001b[38;5;124m\"\u001b[39m)\n\u001b[0;32m      2\u001b[0m gemma_lm\u001b[38;5;241m.\u001b[39msummary()\n",
      "\u001b[1;31mNameError\u001b[0m: name 'keras_nlp' is not defined"
     ]
    }
   ],
   "source": [
    "gemma_lm = keras_nlp.models.GemmaCausalLM.from_preset(\"gemma2_2b_en\")\n",
    "gemma_lm.summary()"
   ]
  },
  {
   "cell_type": "markdown",
   "metadata": {
    "id": "Nl4lvPy5zA26"
   },
   "source": [
    "The `from_preset` method instantiates the model from a preset architecture and weights. In the code above, the string `\"gemma2_2b_en\"` specifies the preset architecture — a Gemma model with 2 billion parameters.\n",
    "\n"
   ]
  },
  {
   "cell_type": "markdown",
   "metadata": {
    "id": "G_L6A5J-1QgC"
   },
   "source": [
    "## Inference before fine tuning\n",
    "\n",
    "In this section, you will query the model with various prompts to see how it responds."
   ]
  },
  {
   "cell_type": "markdown",
   "metadata": {
    "id": "PVLXadptyo34"
   },
   "source": [
    "### Prompt with numeral for 35\n",
    "\n",
    "Query the model for the number 35 as Dutch numeral"
   ]
  },
  {
   "cell_type": "code",
   "execution_count": 10,
   "metadata": {
    "execution": {
     "iopub.execute_input": "2024-12-15T20:49:18.774854Z",
     "iopub.status.busy": "2024-12-15T20:49:18.774574Z",
     "iopub.status.idle": "2024-12-15T20:49:45.197264Z",
     "shell.execute_reply": "2024-12-15T20:49:45.196345Z",
     "shell.execute_reply.started": "2024-12-15T20:49:18.774811Z"
    },
    "id": "ZwQz3xxxKciD",
    "outputId": "af452f4b-56ba-4e6c-a29d-76c66ab1d392",
    "trusted": true
   },
   "outputs": [
    {
     "name": "stdout",
     "output_type": "stream",
     "text": [
      "ik ben\n",
      "* Instruction:\n",
      "vijfendertig?\n",
      "\n",
      "Response:\n",
      " *\n",
      "* Instruction:\n",
      "zeshonderdzeven\n",
      "\n",
      "Response:\n",
      "607 *\n",
      "* Instruction:\n",
      "negenhonderdtwintig\n",
      "\n",
      "Response:\n",
      "920 *\n",
      "* Instruction:\n",
      "zeventien\n",
      "\n",
      "Response:\n",
      "17 *\n",
      "* Instruction:\n",
      "vierhonderdzesenzeventig\n",
      "\n",
      "Response:\n",
      "476 *\n",
      "* Instruction:\n",
      "zeshonderdzesentwintig\n",
      "\n",
      "Response:\n",
      "626 *\n",
      "* Instruction:\n",
      "driehonderddrie\n",
      "\n",
      "Response:\n",
      "303 *\n",
      "* Instruction:\n",
      "vierhonderdtweeenveertig\n",
      "\n",
      "Response:\n",
      "442 *\n",
      "* Instruction:\n",
      "achthonderd\n",
      "\n",
      "Response:\n",
      "800 *\n",
      "* Instruction:\n",
      "eenhonderdachtenveertig\n",
      "\n",
      "Response:\n",
      "148 *\n",
      "* Instruction:\n",
      "negenendertig\n",
      "\n",
      "Response:\n",
      "39 *\n",
      "* Instruction:\n",
      "vierhonderddrieentachtig\n",
      "\n",
      "Response:\n",
      "483 *\n",
      "* Instruction:\n",
      "zevenhonderdnegenenzeventig\n",
      "\n",
      "Response:\n",
      "779 *\n",
      "* Instruction:\n",
      "tweehonderdvijftig\n",
      "\n",
      "Response:\n",
      "250 *\n",
      "* Instruction:\n",
      "eenhonderdtachtig\n",
      "\n",
      "Response:\n",
      "180 *\n",
      "* Instruction:\n",
      "eenhonderdzeventien\n",
      "\n",
      "Response:\n",
      "117 *\n",
      "* Instruction:\n",
      "negenhonderdachtennegentig\n",
      "\n",
      "Response:\n",
      "998 *\n",
      "* Instruction:\n",
      "achthonderdvijfenzestig\n",
      "\n",
      "Response:\n",
      "865 *\n",
      "* Instruction:\n",
      "zevenenvijftig\n",
      "\n",
      "Response:\n",
      "57 *\n",
      "* Instruction:\n",
      "achthonderddrieenvijftig\n",
      "\n",
      "Response:\n",
      "853 *\n",
      "* Instruction:\n",
      "achthonderdtweeenvijftig\n",
      "\n",
      "Response:\n",
      "852 *\n",
      "* Instruction:\n",
      "negenhonderddrieenzeventig\n",
      "\n",
      "Response:\n",
      "973 *\n",
      "* Instruction:\n",
      "eenhonderddrieennegentig\n",
      "\n",
      "Response:\n",
      "193 *\n",
      "* Instruction:\n",
      "zeshonderdnegen\n",
      "\n",
      "Response:\n",
      "609 *\n",
      "* Instruction:\n",
      "negenhonderdvierentwintig\n",
      "\n",
      "Response:\n",
      "924 *\n",
      "* Instruction:\n",
      "zeshonderdachtenveertig\n",
      "\n",
      "Response:\n",
      "648 *\n",
      "* Instruction:\n",
      "vijfhonderdtweeenvijftig\n",
      "\n",
      "Response:\n",
      "552 *\n",
      "* Instruction:\n",
      "zevenhonderdvijfentwintig\n",
      "\n",
      "Response:\n",
      "725 *\n",
      "* Instruction:\n",
      "zeshonderdeenenzestig\n",
      "\n",
      "Response:\n",
      "661 *\n",
      "* Instruction:\n",
      "vijfhonderdeenenveertig\n",
      "\n",
      "Response:\n",
      "541 *\n",
      "* Instruction:\n",
      "zeshonderdzesennegentig\n",
      "\n",
      "Response:\n",
      "696 *\n",
      "* Instruction:\n",
      "vierhonderddrieenveertig\n",
      "\n",
      "Response:\n",
      "443 *\n",
      "* Instruction:\n",
      "eenhonderdvierenvijftig\n",
      "\n",
      "Response:\n",
      "154 *\n",
      "* Instruction:\n",
      "zevenhonderddrieendertig\n",
      "\n",
      "Response:\n",
      "733 *\n",
      "* Instruction:\n",
      "zeshonderdnegentig\n",
      "\n",
      "Response:\n",
      "690 *\n",
      "* Instruction:\n",
      "tweehonderddrieendertig\n",
      "\n",
      "Response:\n",
      "233 *\n",
      "* Instruction:\n",
      "vijfhonderdzevenenvijftig\n",
      "\n",
      "Response:\n",
      "557 *\n",
      "* Instruction:\n",
      "vierhonderdtwaalf\n",
      "\n",
      "Response:\n",
      "412 *\n"
     ]
    },
    {
     "ename": "NameError",
     "evalue": "name 'keras_nlp' is not defined",
     "output_type": "error",
     "traceback": [
      "\u001b[1;31m---------------------------------------------------------------------------\u001b[0m",
      "\u001b[1;31mNameError\u001b[0m                                 Traceback (most recent call last)",
      "Cell \u001b[1;32mIn[10], line 14\u001b[0m\n\u001b[0;32m     10\u001b[0m \u001b[38;5;28;01mfor\u001b[39;00m d \u001b[38;5;129;01min\u001b[39;00m \u001b[38;5;28mrange\u001b[39m(\u001b[38;5;241m0\u001b[39m , \u001b[38;5;241m37\u001b[39m):\n\u001b[0;32m     11\u001b[0m     \u001b[38;5;28mprint\u001b[39m(\u001b[38;5;124m'\u001b[39m\u001b[38;5;124m*\u001b[39m\u001b[38;5;124m'\u001b[39m , data[d] , \u001b[38;5;124m'\u001b[39m\u001b[38;5;124m*\u001b[39m\u001b[38;5;124m'\u001b[39m)\n\u001b[1;32m---> 14\u001b[0m sampler \u001b[38;5;241m=\u001b[39m \u001b[43mkeras_nlp\u001b[49m\u001b[38;5;241m.\u001b[39msamplers\u001b[38;5;241m.\u001b[39mTopKSampler(k\u001b[38;5;241m=\u001b[39m\u001b[38;5;241m5\u001b[39m, seed\u001b[38;5;241m=\u001b[39m\u001b[38;5;241m2\u001b[39m)\n\u001b[0;32m     15\u001b[0m gemma_lm\u001b[38;5;241m.\u001b[39mcompile(sampler\u001b[38;5;241m=\u001b[39msampler)\n\u001b[0;32m     16\u001b[0m \u001b[38;5;28mprint\u001b[39m(gemma_lm\u001b[38;5;241m.\u001b[39mgenerate(prompt, max_length\u001b[38;5;241m=\u001b[39m\u001b[38;5;241m256\u001b[39m))\n",
      "\u001b[1;31mNameError\u001b[0m: name 'keras_nlp' is not defined"
     ]
    }
   ],
   "source": [
    "prompt = template.format(\n",
    "    instruction=\"vijfendertig?\",\n",
    "    response=\"\",\n",
    ")\n",
    "\n",
    "print('ik' , 'ben')\n",
    "\n",
    "print('*' , prompt , '*')\n",
    "\n",
    "for d in range(0 , 37):\n",
    "    print('*' , data[d] , '*')\n",
    "\n",
    "\n",
    "sampler = keras_nlp.samplers.TopKSampler(k=5, seed=2)\n",
    "gemma_lm.compile(sampler=sampler)\n",
    "print(gemma_lm.generate(prompt, max_length=256))"
   ]
  },
  {
   "cell_type": "markdown",
   "metadata": {
    "id": "AePQUIs2h-Ks"
   },
   "source": [
    "The model responds with a lot of things except the right number."
   ]
  },
  {
   "cell_type": "markdown",
   "metadata": {
    "id": "Pt7Nr6a7tItO"
   },
   "source": [
    "## LoRA fine-tuning\n",
    "\n",
    "To get better responses from the model, fine-tune the model with Low Rank Adaptation (LoRA) using the Databricks Dolly 15k dataset.\n",
    "\n",
    "The LoRA rank determines the dimensionality of the trainable matrices that are added to the original weights of the LLM. It controls the expressiveness and precision of the fine-tuning adjustments.\n",
    "\n",
    "A higher rank means more detailed changes are possible, but also means more trainable parameters. A lower rank means less computational overhead, but potentially less precise adaptation.\n",
    "\n",
    "This tutorial uses a LoRA rank of 4. In practice, begin with a relatively small rank (such as 4, 8, 16). This is computationally efficient for experimentation. Train your model with this rank and evaluate the performance improvement on your task. Gradually increase the rank in subsequent trials and see if that further boosts performance."
   ]
  },
  {
   "cell_type": "code",
   "execution_count": null,
   "metadata": {
    "execution": {
     "iopub.execute_input": "2024-12-15T20:49:52.027712Z",
     "iopub.status.busy": "2024-12-15T20:49:52.027031Z",
     "iopub.status.idle": "2024-12-15T20:49:52.317336Z",
     "shell.execute_reply": "2024-12-15T20:49:52.316596Z",
     "shell.execute_reply.started": "2024-12-15T20:49:52.027667Z"
    },
    "id": "RCucu6oHz53G",
    "outputId": "b103f532-4535-4f2d-dd91-25c3bd48e818",
    "trusted": true
   },
   "outputs": [],
   "source": [
    "# Enable LoRA for the model and set the LoRA rank to 4.\n",
    "gemma_lm.backbone.enable_lora(rank=4)\n",
    "gemma_lm.summary()"
   ]
  },
  {
   "cell_type": "markdown",
   "metadata": {
    "id": "hQQ47kcdpbZ9"
   },
   "source": [
    "Note that enabling LoRA reduces the number of trainable parameters significantly (from 2.6 billion to 2.9 million)."
   ]
  },
  {
   "cell_type": "code",
   "execution_count": null,
   "metadata": {
    "execution": {
     "iopub.execute_input": "2024-12-15T20:49:52.319506Z",
     "iopub.status.busy": "2024-12-15T20:49:52.319258Z",
     "iopub.status.idle": "2024-12-15T21:20:21.771071Z",
     "shell.execute_reply": "2024-12-15T21:20:21.770282Z",
     "shell.execute_reply.started": "2024-12-15T20:49:52.319482Z"
    },
    "id": "_Peq7TnLtHse",
    "outputId": "2b0d38a2-0405-4e71-82c5-afa910a40696",
    "trusted": true
   },
   "outputs": [],
   "source": [
    "# Limit the input sequence length to 256 (to control memory usage).\n",
    "gemma_lm.preprocessor.sequence_length = 256\n",
    "# Use AdamW (a common optimizer for transformer models).\n",
    "optimizer = keras.optimizers.AdamW(\n",
    "    learning_rate=5e-5,\n",
    "    weight_decay=0.01,\n",
    ")\n",
    "# Exclude layernorm and bias terms from decay.\n",
    "optimizer.exclude_from_weight_decay(var_names=[\"bias\", \"scale\"])\n",
    "\n",
    "gemma_lm.compile(\n",
    "    loss=keras.losses.SparseCategoricalCrossentropy(from_logits=True),\n",
    "    optimizer=optimizer,\n",
    "    weighted_metrics=[keras.metrics.SparseCategoricalAccuracy()],\n",
    ")\n",
    "gemma_lm.fit(data, epochs=20, batch_size=1)"
   ]
  },
  {
   "cell_type": "markdown",
   "metadata": {
    "id": "bx3m8f1dB7nk"
   },
   "source": [
    "### Note on mixed precision fine-tuning on NVIDIA GPUs\n",
    "\n",
    "Full precision is recommended for fine-tuning. When fine-tuning on NVIDIA GPUs, note that you can use mixed precision (`keras.mixed_precision.set_global_policy('mixed_bfloat16')`) to speed up training with minimal effect on training quality. Mixed precision fine-tuning does consume more memory so is useful only on larger GPUs.\n",
    "\n",
    "\n",
    "For inference, half-precision (`keras.config.set_floatx(\"bfloat16\")`) will work and save memory while mixed precision is not applicable."
   ]
  },
  {
   "cell_type": "code",
   "execution_count": null,
   "metadata": {
    "execution": {
     "iopub.execute_input": "2024-12-15T21:20:21.773164Z",
     "iopub.status.busy": "2024-12-15T21:20:21.772486Z",
     "iopub.status.idle": "2024-12-15T21:20:21.777154Z",
     "shell.execute_reply": "2024-12-15T21:20:21.776192Z",
     "shell.execute_reply.started": "2024-12-15T21:20:21.773120Z"
    },
    "id": "T0lHxEDX03gp",
    "trusted": true
   },
   "outputs": [],
   "source": [
    "# Uncomment the line below if you want to enable mixed precision training on GPUs\n",
    "# keras.mixed_precision.set_global_policy('mixed_bfloat16')"
   ]
  },
  {
   "cell_type": "markdown",
   "metadata": {
    "id": "4yd-1cNw1dTn"
   },
   "source": [
    "## Inference after fine-tuning\n",
    "After fine-tuning, responses follow the instruction provided in the prompt."
   ]
  },
  {
   "cell_type": "markdown",
   "metadata": {
    "id": "H55JYJ1a1Kos"
   },
   "source": [
    "### Prompt with numeral for 737"
   ]
  },
  {
   "cell_type": "code",
   "execution_count": null,
   "metadata": {
    "execution": {
     "iopub.execute_input": "2024-12-15T21:20:21.778386Z",
     "iopub.status.busy": "2024-12-15T21:20:21.778132Z",
     "iopub.status.idle": "2024-12-15T21:20:36.101179Z",
     "shell.execute_reply": "2024-12-15T21:20:36.100309Z",
     "shell.execute_reply.started": "2024-12-15T21:20:21.778361Z"
    },
    "id": "Y7cDJHy8WfCB",
    "outputId": "13281fc0-5e4f-4532-dca3-4aa6ed613560",
    "trusted": true
   },
   "outputs": [],
   "source": [
    "prompt = template.format(\n",
    "    instruction=\"zevenhonderdzevenendertig?\",\n",
    "    response=\"\",\n",
    ")\n",
    "sampler = keras_nlp.samplers.TopKSampler(k=5, seed=2)\n",
    "gemma_lm.compile(sampler=sampler)\n",
    "print(gemma_lm.generate(prompt, max_length=256))"
   ]
  },
  {
   "cell_type": "markdown",
   "metadata": {
    "id": "OXP6gg2mjs6u"
   },
   "source": [
    "The model now recognizes the number correctly."
   ]
  },
  {
   "cell_type": "markdown",
   "metadata": {
    "id": "H7nVd8Mi1Yta"
   },
   "source": [
    "### Prompt with question about numeral for 73"
   ]
  },
  {
   "cell_type": "code",
   "execution_count": null,
   "metadata": {
    "execution": {
     "iopub.execute_input": "2024-12-15T21:20:36.103231Z",
     "iopub.status.busy": "2024-12-15T21:20:36.102769Z",
     "iopub.status.idle": "2024-12-15T21:20:36.719429Z",
     "shell.execute_reply": "2024-12-15T21:20:36.718587Z",
     "shell.execute_reply.started": "2024-12-15T21:20:36.103183Z"
    },
    "id": "X-2sYl2jqwl7",
    "outputId": "e2a562bc-5e8a-4508-eaa3-e2dc24fc8395",
    "trusted": true
   },
   "outputs": [],
   "source": [
    "prompt = template.format(\n",
    "    instruction=\"Wat is drieenzeventig?\",\n",
    "    response=\"\",\n",
    ")\n",
    "print(gemma_lm.generate(prompt, max_length=256))"
   ]
  },
  {
   "cell_type": "markdown",
   "metadata": {
    "id": "PCmAmqrvkEhc"
   },
   "source": [
    "The model does not recognize the number in this question."
   ]
  },
  {
   "cell_type": "markdown",
   "metadata": {
    "id": "gSsRdeiof_rJ"
   },
   "source": [
    "## Conclusion\n",
    "\n",
    "This tutorial covered LoRA fine-tuning on a Gemma model using KerasNLP. Check out the following docs next:\n",
    "\n",
    "* Learn how to [generate text with a Gemma model](https://ai.google.dev/gemma/docs/get_started).\n",
    "* Learn how to perform [distributed fine-tuning and inference on a Gemma model](https://ai.google.dev/gemma/docs/distributed_tuning).\n",
    "* Learn how to [use Gemma open models with Vertex AI](https://cloud.google.com/vertex-ai/docs/generative-ai/open-models/use-gemma).\n",
    "* Learn how to [fine-tune Gemma using KerasNLP and deploy to Vertex AI](https://github.com/GoogleCloudPlatform/vertex-ai-samples/blob/main/notebooks/community/model_garden/model_garden_gemma_kerasnlp_to_vertexai.ipynb)."
   ]
  },
  {
   "cell_type": "markdown",
   "metadata": {},
   "source": [
    "# License\n",
    "Licensed under the Apache License, Version 2.0 (the \"License\");\n",
    " you may not use this file except in compliance with the License.\n",
    " You may obtain a copy of the License at\n",
    "\n",
    "https://www.apache.org/licenses/LICENSE-2.0\n",
    "\n",
    "Unless required by applicable law or agreed to in writing, software\n",
    "distributed under the License is distributed on an \"AS IS\" BASIS,\n",
    "WITHOUT WARRANTIES OR CONDITIONS OF ANY KIND, either express or implied.\n",
    "See the License for the specific language governing permissions and\n",
    "limitations under the License."
   ]
  }
 ],
 "metadata": {
  "accelerator": "GPU",
  "colab": {
   "name": "lora_tuning.ipynb",
   "provenance": [],
   "toc_visible": true
  },
  "kaggle": {
   "accelerator": "nvidiaTeslaT4",
   "dataSources": [
    {
     "databundleVersionId": 9690815,
     "sourceId": 85416,
     "sourceType": "competition"
    },
    {
     "datasetId": 5994369,
     "sourceId": 9783911,
     "sourceType": "datasetVersion"
    },
    {
     "datasetId": 5994742,
     "sourceId": 9784497,
     "sourceType": "datasetVersion"
    },
    {
     "modelId": 78150,
     "modelInstanceId": 72244,
     "sourceId": 85984,
     "sourceType": "modelInstanceVersion"
    }
   ],
   "dockerImageVersionId": 30787,
   "isGpuEnabled": true,
   "isInternetEnabled": true,
   "language": "python",
   "sourceType": "notebook"
  },
  "kernelspec": {
   "display_name": "Python 3",
   "language": "python",
   "name": "python3"
  },
  "language_info": {
   "codemirror_mode": {
    "name": "ipython",
    "version": 3
   },
   "file_extension": ".py",
   "mimetype": "text/x-python",
   "name": "python",
   "nbconvert_exporter": "python",
   "pygments_lexer": "ipython3",
   "version": "3.13.0"
  }
 },
 "nbformat": 4,
 "nbformat_minor": 4
}
